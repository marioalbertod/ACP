{
  "nbformat": 4,
  "nbformat_minor": 0,
  "metadata": {
    "kernelspec": {
      "display_name": "Python 3",
      "language": "python",
      "name": "python3"
    },
    "language_info": {
      "codemirror_mode": {
        "name": "ipython",
        "version": 3
      },
      "file_extension": ".py",
      "mimetype": "text/x-python",
      "name": "python",
      "nbconvert_exporter": "python",
      "pygments_lexer": "ipython3",
      "version": "3.8.2"
    },
    "colab": {
      "name": "parse_xml_papers.ipynb",
      "provenance": [],
      "collapsed_sections": [],
      "include_colab_link": true
    }
  },
  "cells": [
    {
      "cell_type": "markdown",
      "metadata": {
        "id": "view-in-github",
        "colab_type": "text"
      },
      "source": [
        "<a href=\"https://colab.research.google.com/github/marioalbertod/ACP/blob/master/parse_xml_papers.ipynb\" target=\"_parent\"><img src=\"https://colab.research.google.com/assets/colab-badge.svg\" alt=\"Open In Colab\"/></a>"
      ]
    },
    {
      "cell_type": "code",
      "metadata": {
        "id": "xrlVJKYpF1Rj",
        "colab_type": "code",
        "colab": {}
      },
      "source": [
        "import pandas as pd\n",
        "import xml.etree.ElementTree as ET"
      ],
      "execution_count": null,
      "outputs": []
    },
    {
      "cell_type": "code",
      "metadata": {
        "id": "8sBW-lcNGQ-e",
        "colab_type": "code",
        "colab": {
          "base_uri": "https://localhost:8080/",
          "height": 384
        },
        "outputId": "a1a85d81-ed80-4639-984d-fa40ce5e95fb"
      },
      "source": [
        "!wget -O 1.xml https://www.dropbox.com/s/ahcw6rdh45kwkyl/1.xml?dl=1"
      ],
      "execution_count": null,
      "outputs": [
        {
          "output_type": "stream",
          "text": [
            "--2020-06-18 01:06:52--  https://www.dropbox.com/s/ahcw6rdh45kwkyl/1.xml?dl=1\n",
            "Resolving www.dropbox.com (www.dropbox.com)... 162.125.5.1, 2620:100:601d:1::a27d:501\n",
            "Connecting to www.dropbox.com (www.dropbox.com)|162.125.5.1|:443... connected.\n",
            "HTTP request sent, awaiting response... 301 Moved Permanently\n",
            "Location: /s/dl/ahcw6rdh45kwkyl/1.xml [following]\n",
            "--2020-06-18 01:06:52--  https://www.dropbox.com/s/dl/ahcw6rdh45kwkyl/1.xml\n",
            "Reusing existing connection to www.dropbox.com:443.\n",
            "HTTP request sent, awaiting response... 302 Found\n",
            "Location: https://uc4975e8b1adab6f316e591ecf2a.dl.dropboxusercontent.com/cd/0/get/A51g5mv8K61RDjLRaI0swZe27OdSKwzq5Vd9kny3Ls4EE4Rj6-ywr0SBYxCqiCZDV6WVeeYnnDnKtGcCq18NtnXoAxZ0buXKtN0yJY9I-txS-OcV7I4H06MkS6KoElqW3_A/file?dl=1# [following]\n",
            "--2020-06-18 01:06:52--  https://uc4975e8b1adab6f316e591ecf2a.dl.dropboxusercontent.com/cd/0/get/A51g5mv8K61RDjLRaI0swZe27OdSKwzq5Vd9kny3Ls4EE4Rj6-ywr0SBYxCqiCZDV6WVeeYnnDnKtGcCq18NtnXoAxZ0buXKtN0yJY9I-txS-OcV7I4H06MkS6KoElqW3_A/file?dl=1\n",
            "Resolving uc4975e8b1adab6f316e591ecf2a.dl.dropboxusercontent.com (uc4975e8b1adab6f316e591ecf2a.dl.dropboxusercontent.com)... 162.125.5.15, 2620:100:601d:15::a27d:50f\n",
            "Connecting to uc4975e8b1adab6f316e591ecf2a.dl.dropboxusercontent.com (uc4975e8b1adab6f316e591ecf2a.dl.dropboxusercontent.com)|162.125.5.15|:443... connected.\n",
            "HTTP request sent, awaiting response... 200 OK\n",
            "Length: 168000 (164K) [application/binary]\n",
            "Saving to: ‘1.xml’\n",
            "\n",
            "\r1.xml                 0%[                    ]       0  --.-KB/s               \r1.xml               100%[===================>] 164.06K  --.-KB/s    in 0.1s    \n",
            "\n",
            "2020-06-18 01:06:53 (1.54 MB/s) - ‘1.xml’ saved [168000/168000]\n",
            "\n"
          ],
          "name": "stdout"
        }
      ]
    },
    {
      "cell_type": "code",
      "metadata": {
        "id": "NKlzcnPjF1Rw",
        "colab_type": "code",
        "colab": {}
      },
      "source": [
        "root = ET.parse('1.xml').getroot()"
      ],
      "execution_count": null,
      "outputs": []
    },
    {
      "cell_type": "markdown",
      "metadata": {
        "id": "Xz4GlgvG2mXA",
        "colab_type": "text"
      },
      "source": [
        "Cuando lees el xml como un arbol pudes buscar un nodo y acceder a todo los hijos de este. A su vez puedes hacer nuevas busquedas sobre cada uno de esos hijos.\n",
        "\n",
        "En la celda de abajo puedes ver que al iterar sobre la raiz del arbol puedes acceder a todos los hijos, en particuar el que nosotros interesa que es **back**"
      ]
    },
    {
      "cell_type": "code",
      "metadata": {
        "id": "1KrcfDLHF1R7",
        "colab_type": "code",
        "colab": {
          "base_uri": "https://localhost:8080/",
          "height": 382
        },
        "outputId": "7cc44826-6103-4049-8da3-ad1931eefe76"
      },
      "source": [
        "for k in root:\n",
        "    print(k)"
      ],
      "execution_count": null,
      "outputs": [
        {
          "output_type": "stream",
          "text": [
            "<Element 'front' at 0x7f54fb273b38>\n",
            "<Element 'body' at 0x7f54fb27edb8>\n",
            "<Element 'body' at 0x7f54fb27ee08>\n",
            "<Element 'body' at 0x7f54fb27ee58>\n",
            "<Element 'body' at 0x7f54fb27eef8>\n",
            "<Element 'body' at 0x7f54fb27ef48>\n",
            "<Element 'body' at 0x7f54fb27ef98>\n",
            "<Element 'body' at 0x7f54fb285048>\n",
            "<Element 'body' at 0x7f54fb2850e8>\n",
            "<Element 'body' at 0x7f54fb285188>\n",
            "<Element 'body' at 0x7f54fb285228>\n",
            "<Element 'body' at 0x7f54fb285278>\n",
            "<Element 'body' at 0x7f54fb2852c8>\n",
            "<Element 'body' at 0x7f54fb285318>\n",
            "<Element 'body' at 0x7f54fb2853b8>\n",
            "<Element 'body' at 0x7f54fb285458>\n",
            "<Element 'body' at 0x7f54fb2854f8>\n",
            "<Element 'body' at 0x7f54fb285548>\n",
            "<Element 'body' at 0x7f54fb285598>\n",
            "<Element 'body' at 0x7f54fb2855e8>\n",
            "<Element 'back' at 0x7f54fb285638>\n"
          ],
          "name": "stdout"
        }
      ]
    },
    {
      "cell_type": "markdown",
      "metadata": {
        "id": "QY6upoHB4ED5",
        "colab_type": "text"
      },
      "source": [
        ""
      ]
    },
    {
      "cell_type": "markdown",
      "metadata": {
        "id": "vQjOxBEL4aT6",
        "colab_type": "text"
      },
      "source": [
        "Otra de las cosas que se puede hacer es tratar los nodos como si fueran directorios de archivos del estilo _c:/User/my Documents/Music_, y buscar en una carpeta (nodo) especifico. Los pasos que segui para obtener la data que necesitas de las referencas es:\n",
        "1. paso 1: buscar todos los nodos que son hijos de _'back/ref-list/ref/nlm-citation'_ e iterar por cada uno de los hijos de estos, de donde vamos a sacar la infomacion que necesitamos. Con estos nodos hijos lo que vamos a hacer es hacer una busqueda especifica dentro de ese nodo para sacar la info que necesitamos\n",
        "2. por cada nodo hijo podemos hacer una busqueda especifica, por ejemplo el nodo 'year' y sacar el texto que este tiene \n",
        "3. por cada nodo hijo podemos hacer una busqueda especifica, por ejemplo el nodo 'citetion-type' y sacar el algun atributo que tenga este     \n",
        "`<nlm-citation citetion-type='blablabla'>`\n",
        "4. para cada nodo hijo buscar todos los apellidos usando _person-group/name/surname_ y sacar el texto que este tiene"
      ]
    },
    {
      "cell_type": "code",
      "metadata": {
        "id": "hWmE6C4rF1SI",
        "colab_type": "code",
        "colab": {}
      },
      "source": [
        "def get_text(node, key):\n",
        "    elem = node.find(key)\n",
        "    result = elem.text if elem is not None else None\n",
        "    return result\n",
        "\n",
        "def get_attr(node, key):\n",
        "    if key in node:\n",
        "        result = node.get(key)\n",
        "    else:\n",
        "        result = None\n",
        "    return result\n",
        "\n",
        "references = [\n",
        "    dict(\n",
        "        [\n",
        "            ('citation-type', get_attr(k, 'citation-type')),                # paso 3\n",
        "            ('article-title', get_text(k, 'article-title')),                # paso 2\n",
        "            ('year', get_text(k, 'year')),                                  # paso 2\n",
        "            ('source', get_text(k, 'source')),                              # paso 2\n",
        "        ] +\n",
        "        [\n",
        "            (f'author_{idx}', j.text) \n",
        "            for idx, j in enumerate(k.findall('person-group/name/surname')) # paso 4\n",
        "        ])\n",
        "    for k in root.findall('back/ref-list/ref/nlm-citation')]                # paso 1"
      ],
      "execution_count": null,
      "outputs": []
    },
    {
      "cell_type": "code",
      "metadata": {
        "id": "gGFZkFKDF1SR",
        "colab_type": "code",
        "colab": {
          "base_uri": "https://localhost:8080/",
          "height": 310
        },
        "outputId": "11f92d43-bc78-4b45-90d2-0a41112aad91"
      },
      "source": [
        "df = pd.DataFrame(references)\n",
        "df.head()"
      ],
      "execution_count": null,
      "outputs": [
        {
          "output_type": "execute_result",
          "data": {
            "text/html": [
              "<div>\n",
              "<style scoped>\n",
              "    .dataframe tbody tr th:only-of-type {\n",
              "        vertical-align: middle;\n",
              "    }\n",
              "\n",
              "    .dataframe tbody tr th {\n",
              "        vertical-align: top;\n",
              "    }\n",
              "\n",
              "    .dataframe thead th {\n",
              "        text-align: right;\n",
              "    }\n",
              "</style>\n",
              "<table border=\"1\" class=\"dataframe\">\n",
              "  <thead>\n",
              "    <tr style=\"text-align: right;\">\n",
              "      <th></th>\n",
              "      <th>citation-type</th>\n",
              "      <th>article-title</th>\n",
              "      <th>year</th>\n",
              "      <th>source</th>\n",
              "      <th>author_0</th>\n",
              "      <th>author_1</th>\n",
              "      <th>author_2</th>\n",
              "      <th>author_3</th>\n",
              "      <th>author_4</th>\n",
              "      <th>author_5</th>\n",
              "      <th>author_6</th>\n",
              "    </tr>\n",
              "  </thead>\n",
              "  <tbody>\n",
              "    <tr>\n",
              "      <th>0</th>\n",
              "      <td>None</td>\n",
              "      <td>Las universidades privadas a los quince años (...</td>\n",
              "      <td>1997</td>\n",
              "      <td>Informe sobre la educación superior en Chile 1997</td>\n",
              "      <td>ALBORNOZ</td>\n",
              "      <td>LORCA</td>\n",
              "      <td>PERSICO</td>\n",
              "      <td>NaN</td>\n",
              "      <td>NaN</td>\n",
              "      <td>NaN</td>\n",
              "      <td>NaN</td>\n",
              "    </tr>\n",
              "    <tr>\n",
              "      <th>1</th>\n",
              "      <td>None</td>\n",
              "      <td>Ingreso a la Educación Superior: El Sistema Na...</td>\n",
              "      <td>1985</td>\n",
              "      <td>Cuadernos del Consejo de Rectores de las Unive...</td>\n",
              "      <td>ARANDA</td>\n",
              "      <td>NaN</td>\n",
              "      <td>NaN</td>\n",
              "      <td>NaN</td>\n",
              "      <td>NaN</td>\n",
              "      <td>NaN</td>\n",
              "      <td>NaN</td>\n",
              "    </tr>\n",
              "    <tr>\n",
              "      <th>2</th>\n",
              "      <td>None</td>\n",
              "      <td>Variables que inciden en el aprendizaje de los...</td>\n",
              "      <td>1997</td>\n",
              "      <td>Educación, eficiencia y equidad.</td>\n",
              "      <td>ARRIAGADA</td>\n",
              "      <td>COHEN</td>\n",
              "      <td>NaN</td>\n",
              "      <td>NaN</td>\n",
              "      <td>NaN</td>\n",
              "      <td>NaN</td>\n",
              "      <td>NaN</td>\n",
              "    </tr>\n",
              "    <tr>\n",
              "      <th>3</th>\n",
              "      <td>None</td>\n",
              "      <td>None</td>\n",
              "      <td>1991</td>\n",
              "      <td>Informe de los resultados de las pruebas de ad...</td>\n",
              "      <td>AVILA</td>\n",
              "      <td>NaN</td>\n",
              "      <td>NaN</td>\n",
              "      <td>NaN</td>\n",
              "      <td>NaN</td>\n",
              "      <td>NaN</td>\n",
              "      <td>NaN</td>\n",
              "    </tr>\n",
              "    <tr>\n",
              "      <th>4</th>\n",
              "      <td>None</td>\n",
              "      <td>None</td>\n",
              "      <td>1993</td>\n",
              "      <td>Modificaciones propuestas para la sección Verb...</td>\n",
              "      <td>AVILA</td>\n",
              "      <td>NaN</td>\n",
              "      <td>NaN</td>\n",
              "      <td>NaN</td>\n",
              "      <td>NaN</td>\n",
              "      <td>NaN</td>\n",
              "      <td>NaN</td>\n",
              "    </tr>\n",
              "  </tbody>\n",
              "</table>\n",
              "</div>"
            ],
            "text/plain": [
              "  citation-type  ... author_6\n",
              "0          None  ...      NaN\n",
              "1          None  ...      NaN\n",
              "2          None  ...      NaN\n",
              "3          None  ...      NaN\n",
              "4          None  ...      NaN\n",
              "\n",
              "[5 rows x 11 columns]"
            ]
          },
          "metadata": {
            "tags": []
          },
          "execution_count": 14
        }
      ]
    },
    {
      "cell_type": "code",
      "metadata": {
        "id": "ll4h6V98F1SZ",
        "colab_type": "code",
        "colab": {}
      },
      "source": [
        "# Guardar el resultado en CSV\n",
        "df.to_csv('reseult_paper_parser.csv', index=False)"
      ],
      "execution_count": null,
      "outputs": []
    },
    {
      "cell_type": "markdown",
      "metadata": {
        "id": "pjMzM4wT_7iD",
        "colab_type": "text"
      },
      "source": [
        "Por ultimo si esta muy apurado puedes subir todo los xml acá, vas al icono de carpeta que esta a la derecha y le das upload a todos los archivos y despues corres el codigo de abajo y te va a generar un csv por cada xml"
      ]
    },
    {
      "cell_type": "code",
      "metadata": {
        "id": "cQPp12viJAR4",
        "colab_type": "code",
        "colab": {
          "base_uri": "https://localhost:8080/",
          "height": 34
        },
        "outputId": "b2e3be53-fbdc-40fd-d2cb-9b3456e3c6cf"
      },
      "source": [
        "import os \n",
        "\n",
        "import pandas as pd\n",
        "import xml.etree.ElementTree as ET\n",
        "\n",
        "def get_text(node, key):\n",
        "    elem = node.find(key)\n",
        "    result = elem.text if elem is not None else None\n",
        "    return result\n",
        "\n",
        "def get_attr(node, key):\n",
        "    if key in node:\n",
        "        result = node.get(key)\n",
        "    else:\n",
        "        result = None\n",
        "    return result\n",
        "\n",
        "def extract_info(path_xml):\n",
        "    root = ET.parse(path_xml).getroot()\n",
        "    references = [\n",
        "        dict(\n",
        "            [\n",
        "                ('citation-type', get_attr(k, 'citation-type')),                # paso 3\n",
        "                ('article-title', get_text(k, 'article-title')),                # paso 2\n",
        "                ('year', get_text(k, 'year')),                                  # paso 2\n",
        "                ('source', get_text(k, 'source')),                              # paso 2\n",
        "            ] +\n",
        "            [\n",
        "                (f'author_{idx}', j.text) \n",
        "                for idx, j in enumerate(k.findall('person-group/name/surname')) # paso 4\n",
        "            ])\n",
        "        for k in root.findall('back/ref-list/ref/nlm-citation')]                # paso 1\n",
        "    df = pd.DataFrame(references)\n",
        "    return df\n",
        "\n",
        "\n",
        "file_path = './'\n",
        "files = [k for k in os.listdir(file_path) if k.endswith('.xml')]\n",
        "\n",
        "for file in files:\n",
        "    source_file = os.path.join(file_path, file)\n",
        "    destination_file = os.path.join(file_path, file.replace('.xml', '.csv'))\n",
        "    df = extract_info(source_file)    \n",
        "    df.to_csv(destination_file)\n",
        "    print(f'{file} ok')"
      ],
      "execution_count": null,
      "outputs": [
        {
          "output_type": "stream",
          "text": [
            "1.xml ok\n"
          ],
          "name": "stdout"
        }
      ]
    },
    {
      "cell_type": "code",
      "metadata": {
        "id": "W_jTlWz5_DBS",
        "colab_type": "code",
        "colab": {
          "base_uri": "https://localhost:8080/",
          "height": 34
        },
        "outputId": "0c956bb9-7fc1-48fb-e35f-a9a8973cdefd"
      },
      "source": [
        ""
      ],
      "execution_count": null,
      "outputs": [
        {
          "output_type": "execute_result",
          "data": {
            "text/plain": [
              "['1.xml']"
            ]
          },
          "metadata": {
            "tags": []
          },
          "execution_count": 18
        }
      ]
    },
    {
      "cell_type": "code",
      "metadata": {
        "id": "ljImK1B2_EbW",
        "colab_type": "code",
        "colab": {}
      },
      "source": [
        ""
      ],
      "execution_count": null,
      "outputs": []
    }
  ]
}